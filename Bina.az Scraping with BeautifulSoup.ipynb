{
 "cells": [
  {
   "cell_type": "markdown",
   "id": "bc6ec6d7",
   "metadata": {},
   "source": [
    "Description: You are working as a Data Scientist in an Azerbaijani Real Estate Agency.\n",
    "You are tasked to gather data about the house properties in the country using web-scraping\n",
    "in order to create a model in the future.\n",
    "You are asked to scrap ‘bina.az’ and get the data out of the main page. The data should give\n",
    "information about the location of the property, the link of the announcement, date and time\n",
    "published and the price of the property.\n"
   ]
  },
  {
   "cell_type": "code",
   "execution_count": 1,
   "id": "25e78e53",
   "metadata": {},
   "outputs": [],
   "source": [
    "import pandas as pd\n",
    "import numpy as np\n",
    "import requests\n",
    "from bs4 import BeautifulSoup"
   ]
  },
  {
   "cell_type": "code",
   "execution_count": 82,
   "id": "7f9a68a9",
   "metadata": {},
   "outputs": [],
   "source": [
    "url=\"https://bina.az/items/all\""
   ]
  },
  {
   "cell_type": "code",
   "execution_count": 83,
   "id": "84183135",
   "metadata": {},
   "outputs": [],
   "source": [
    "response=requests.get(url)"
   ]
  },
  {
   "cell_type": "code",
   "execution_count": 84,
   "id": "164d441a",
   "metadata": {},
   "outputs": [],
   "source": [
    "soup=BeautifulSoup(response.text,\"html.parser\")"
   ]
  },
  {
   "cell_type": "code",
   "execution_count": 85,
   "id": "b3a507ac",
   "metadata": {},
   "outputs": [],
   "source": [
    "locations=[]\n",
    "for i in soup.find_all(\"div\",class_=\"location\"):\n",
    "    locations.append(i.text)"
   ]
  },
  {
   "cell_type": "code",
   "execution_count": 161,
   "id": "791c5a79",
   "metadata": {},
   "outputs": [
    {
     "data": {
      "text/plain": [
       "24"
      ]
     },
     "execution_count": 161,
     "metadata": {},
     "output_type": "execute_result"
    }
   ],
   "source": [
    "len(locations)"
   ]
  },
  {
   "cell_type": "code",
   "execution_count": 188,
   "id": "bc693cdc",
   "metadata": {},
   "outputs": [],
   "source": [
    "links1=[]\n",
    "for a in soup.find_all(\"div\",class_=\"items-i\"):\n",
    "    links1.append(\"https://bina.az\"+a.find(\"a\").get(\"href\"))"
   ]
  },
  {
   "cell_type": "code",
   "execution_count": 189,
   "id": "3960056a",
   "metadata": {},
   "outputs": [
    {
     "data": {
      "text/plain": [
       "24"
      ]
     },
     "execution_count": 189,
     "metadata": {},
     "output_type": "execute_result"
    }
   ],
   "source": [
    "len(links1)"
   ]
  },
  {
   "cell_type": "code",
   "execution_count": 180,
   "id": "56b1cc48",
   "metadata": {},
   "outputs": [],
   "source": [
    "date=[]\n",
    "for i in soup.find_all(\"div\",class_=\"card_footer\"):\n",
    "    date.append(i.text.split(\",\")[1].strip())"
   ]
  },
  {
   "cell_type": "code",
   "execution_count": 174,
   "id": "e3366beb",
   "metadata": {
    "scrolled": true
   },
   "outputs": [
    {
     "data": {
      "text/plain": [
       "'bugün 05:41'"
      ]
     },
     "execution_count": 174,
     "metadata": {},
     "output_type": "execute_result"
    }
   ],
   "source": [
    "soup.find_all(\"div\",class_=\"card_footer\")[0].text.split(\",\")[1].strip()"
   ]
  },
  {
   "cell_type": "code",
   "execution_count": 181,
   "id": "e766884f",
   "metadata": {},
   "outputs": [],
   "source": [
    "price=[]\n",
    "for i in soup.find_all(\"div\",class_=\"abs_block\"):\n",
    "    price.append(i.text)"
   ]
  },
  {
   "cell_type": "code",
   "execution_count": 192,
   "id": "d9cb7a15",
   "metadata": {},
   "outputs": [],
   "source": [
    "Bina_az=pd.DataFrame({\"location\":locations,\"link\":links1,\"date\":date,\"price\":price})"
   ]
  },
  {
   "cell_type": "code",
   "execution_count": 204,
   "id": "7ac87893",
   "metadata": {},
   "outputs": [],
   "source": [
    "Bina_az[\"date\"]=np.datetime64(\"today\",\"D\")"
   ]
  },
  {
   "cell_type": "code",
   "execution_count": 205,
   "id": "5299a7a2",
   "metadata": {
    "scrolled": true
   },
   "outputs": [
    {
     "data": {
      "text/html": [
       "<div>\n",
       "<style scoped>\n",
       "    .dataframe tbody tr th:only-of-type {\n",
       "        vertical-align: middle;\n",
       "    }\n",
       "\n",
       "    .dataframe tbody tr th {\n",
       "        vertical-align: top;\n",
       "    }\n",
       "\n",
       "    .dataframe thead th {\n",
       "        text-align: right;\n",
       "    }\n",
       "</style>\n",
       "<table border=\"1\" class=\"dataframe\">\n",
       "  <thead>\n",
       "    <tr style=\"text-align: right;\">\n",
       "      <th></th>\n",
       "      <th>location</th>\n",
       "      <th>link</th>\n",
       "      <th>date</th>\n",
       "      <th>price</th>\n",
       "    </tr>\n",
       "  </thead>\n",
       "  <tbody>\n",
       "    <tr>\n",
       "      <th>0</th>\n",
       "      <td>Nəsimi r.</td>\n",
       "      <td>https://bina.az/items/3118912</td>\n",
       "      <td>2023-01-23</td>\n",
       "      <td>540 000AZN</td>\n",
       "    </tr>\n",
       "    <tr>\n",
       "      <th>1</th>\n",
       "      <td>Mərdəkan q.</td>\n",
       "      <td>https://bina.az/items/3096584</td>\n",
       "      <td>2023-01-23</td>\n",
       "      <td>1 350 000AZN</td>\n",
       "    </tr>\n",
       "    <tr>\n",
       "      <th>2</th>\n",
       "      <td>Nəriman Nərimanov m.</td>\n",
       "      <td>https://bina.az/items/3134433</td>\n",
       "      <td>2023-01-23</td>\n",
       "      <td>158 000AZN</td>\n",
       "    </tr>\n",
       "    <tr>\n",
       "      <th>3</th>\n",
       "      <td>Qəbələ</td>\n",
       "      <td>https://bina.az/items/2585644</td>\n",
       "      <td>2023-01-23</td>\n",
       "      <td>55 000AZN</td>\n",
       "    </tr>\n",
       "    <tr>\n",
       "      <th>4</th>\n",
       "      <td>Azadlıq Prospekti m.</td>\n",
       "      <td>https://bina.az/items/3167986</td>\n",
       "      <td>2023-01-23</td>\n",
       "      <td>150 000AZN</td>\n",
       "    </tr>\n",
       "    <tr>\n",
       "      <th>5</th>\n",
       "      <td>İnşaatçılar m.</td>\n",
       "      <td>https://bina.az/items/3168017</td>\n",
       "      <td>2023-01-23</td>\n",
       "      <td>230 000AZN</td>\n",
       "    </tr>\n",
       "    <tr>\n",
       "      <th>6</th>\n",
       "      <td>Nəriman Nərimanov m.</td>\n",
       "      <td>https://bina.az/items/3171531</td>\n",
       "      <td>2023-01-23</td>\n",
       "      <td>130 000AZN</td>\n",
       "    </tr>\n",
       "    <tr>\n",
       "      <th>7</th>\n",
       "      <td>Şah İsmayıl Xətai m.</td>\n",
       "      <td>https://bina.az/items/3146670</td>\n",
       "      <td>2023-01-23</td>\n",
       "      <td>248 000AZN</td>\n",
       "    </tr>\n",
       "    <tr>\n",
       "      <th>8</th>\n",
       "      <td>Nizami m.</td>\n",
       "      <td>https://bina.az/items/2989869</td>\n",
       "      <td>2023-01-23</td>\n",
       "      <td>495 000AZN</td>\n",
       "    </tr>\n",
       "    <tr>\n",
       "      <th>9</th>\n",
       "      <td>İnşaatçılar m.</td>\n",
       "      <td>https://bina.az/items/3167898</td>\n",
       "      <td>2023-01-23</td>\n",
       "      <td>340 000AZN</td>\n",
       "    </tr>\n",
       "    <tr>\n",
       "      <th>10</th>\n",
       "      <td>Nərimanov r.</td>\n",
       "      <td>https://bina.az/items/3026011</td>\n",
       "      <td>2023-01-23</td>\n",
       "      <td>248 000AZN</td>\n",
       "    </tr>\n",
       "    <tr>\n",
       "      <th>11</th>\n",
       "      <td>Nərimanov r.</td>\n",
       "      <td>https://bina.az/items/3146498</td>\n",
       "      <td>2023-01-23</td>\n",
       "      <td>375 000AZN</td>\n",
       "    </tr>\n",
       "    <tr>\n",
       "      <th>12</th>\n",
       "      <td>Yeni Ramana q.</td>\n",
       "      <td>https://bina.az/items/2961239</td>\n",
       "      <td>2023-01-23</td>\n",
       "      <td>90 000AZN</td>\n",
       "    </tr>\n",
       "    <tr>\n",
       "      <th>13</th>\n",
       "      <td>Nərimanov r.</td>\n",
       "      <td>https://bina.az/items/3215906</td>\n",
       "      <td>2023-01-23</td>\n",
       "      <td>318 000AZN</td>\n",
       "    </tr>\n",
       "    <tr>\n",
       "      <th>14</th>\n",
       "      <td>İçəri Şəhər m.</td>\n",
       "      <td>https://bina.az/items/2424447</td>\n",
       "      <td>2023-01-23</td>\n",
       "      <td>528 000AZN</td>\n",
       "    </tr>\n",
       "    <tr>\n",
       "      <th>15</th>\n",
       "      <td>8-ci mikrorayon q.</td>\n",
       "      <td>https://bina.az/items/3213809</td>\n",
       "      <td>2023-01-23</td>\n",
       "      <td>350 000AZN</td>\n",
       "    </tr>\n",
       "    <tr>\n",
       "      <th>16</th>\n",
       "      <td>Mərdəkan q.</td>\n",
       "      <td>https://bina.az/items/2812203</td>\n",
       "      <td>2023-01-23</td>\n",
       "      <td>370 000AZN</td>\n",
       "    </tr>\n",
       "    <tr>\n",
       "      <th>17</th>\n",
       "      <td>Nəsimi r.</td>\n",
       "      <td>https://bina.az/items/3175659</td>\n",
       "      <td>2023-01-23</td>\n",
       "      <td>2 800AZN/ay</td>\n",
       "    </tr>\n",
       "    <tr>\n",
       "      <th>18</th>\n",
       "      <td>Azadlıq Prospekti m.</td>\n",
       "      <td>https://bina.az/items/3206011</td>\n",
       "      <td>2023-01-23</td>\n",
       "      <td>148 000AZN</td>\n",
       "    </tr>\n",
       "    <tr>\n",
       "      <th>19</th>\n",
       "      <td>Azadlıq Prospekti m.</td>\n",
       "      <td>https://bina.az/items/3167367</td>\n",
       "      <td>2023-01-23</td>\n",
       "      <td>70 000AZN</td>\n",
       "    </tr>\n",
       "    <tr>\n",
       "      <th>20</th>\n",
       "      <td>Nəriman Nərimanov m.</td>\n",
       "      <td>https://bina.az/items/3118076</td>\n",
       "      <td>2023-01-23</td>\n",
       "      <td>218 000AZN</td>\n",
       "    </tr>\n",
       "    <tr>\n",
       "      <th>21</th>\n",
       "      <td>Nəsimi r.</td>\n",
       "      <td>https://bina.az/items/3216223</td>\n",
       "      <td>2023-01-23</td>\n",
       "      <td>285 000AZN</td>\n",
       "    </tr>\n",
       "    <tr>\n",
       "      <th>22</th>\n",
       "      <td>8 Noyabr m.</td>\n",
       "      <td>https://bina.az/items/3090455</td>\n",
       "      <td>2023-01-23</td>\n",
       "      <td>230 000AZN</td>\n",
       "    </tr>\n",
       "    <tr>\n",
       "      <th>23</th>\n",
       "      <td>Sahil m.</td>\n",
       "      <td>https://bina.az/items/1928492</td>\n",
       "      <td>2023-01-23</td>\n",
       "      <td>4 000AZN/ay</td>\n",
       "    </tr>\n",
       "  </tbody>\n",
       "</table>\n",
       "</div>"
      ],
      "text/plain": [
       "                location                           link       date  \\\n",
       "0              Nəsimi r.  https://bina.az/items/3118912 2023-01-23   \n",
       "1            Mərdəkan q.  https://bina.az/items/3096584 2023-01-23   \n",
       "2   Nəriman Nərimanov m.  https://bina.az/items/3134433 2023-01-23   \n",
       "3                 Qəbələ  https://bina.az/items/2585644 2023-01-23   \n",
       "4   Azadlıq Prospekti m.  https://bina.az/items/3167986 2023-01-23   \n",
       "5         İnşaatçılar m.  https://bina.az/items/3168017 2023-01-23   \n",
       "6   Nəriman Nərimanov m.  https://bina.az/items/3171531 2023-01-23   \n",
       "7   Şah İsmayıl Xətai m.  https://bina.az/items/3146670 2023-01-23   \n",
       "8              Nizami m.  https://bina.az/items/2989869 2023-01-23   \n",
       "9         İnşaatçılar m.  https://bina.az/items/3167898 2023-01-23   \n",
       "10          Nərimanov r.  https://bina.az/items/3026011 2023-01-23   \n",
       "11          Nərimanov r.  https://bina.az/items/3146498 2023-01-23   \n",
       "12        Yeni Ramana q.  https://bina.az/items/2961239 2023-01-23   \n",
       "13          Nərimanov r.  https://bina.az/items/3215906 2023-01-23   \n",
       "14        İçəri Şəhər m.  https://bina.az/items/2424447 2023-01-23   \n",
       "15    8-ci mikrorayon q.  https://bina.az/items/3213809 2023-01-23   \n",
       "16           Mərdəkan q.  https://bina.az/items/2812203 2023-01-23   \n",
       "17             Nəsimi r.  https://bina.az/items/3175659 2023-01-23   \n",
       "18  Azadlıq Prospekti m.  https://bina.az/items/3206011 2023-01-23   \n",
       "19  Azadlıq Prospekti m.  https://bina.az/items/3167367 2023-01-23   \n",
       "20  Nəriman Nərimanov m.  https://bina.az/items/3118076 2023-01-23   \n",
       "21             Nəsimi r.  https://bina.az/items/3216223 2023-01-23   \n",
       "22           8 Noyabr m.  https://bina.az/items/3090455 2023-01-23   \n",
       "23              Sahil m.  https://bina.az/items/1928492 2023-01-23   \n",
       "\n",
       "           price  \n",
       "0     540 000AZN  \n",
       "1   1 350 000AZN  \n",
       "2     158 000AZN  \n",
       "3      55 000AZN  \n",
       "4     150 000AZN  \n",
       "5     230 000AZN  \n",
       "6     130 000AZN  \n",
       "7     248 000AZN  \n",
       "8     495 000AZN  \n",
       "9     340 000AZN  \n",
       "10    248 000AZN  \n",
       "11    375 000AZN  \n",
       "12     90 000AZN  \n",
       "13    318 000AZN  \n",
       "14    528 000AZN  \n",
       "15    350 000AZN  \n",
       "16    370 000AZN  \n",
       "17   2 800AZN/ay  \n",
       "18    148 000AZN  \n",
       "19     70 000AZN  \n",
       "20    218 000AZN  \n",
       "21    285 000AZN  \n",
       "22    230 000AZN  \n",
       "23   4 000AZN/ay  "
      ]
     },
     "execution_count": 205,
     "metadata": {},
     "output_type": "execute_result"
    }
   ],
   "source": [
    "Bina_az"
   ]
  },
  {
   "cell_type": "code",
   "execution_count": 249,
   "id": "a1ceb19c",
   "metadata": {},
   "outputs": [],
   "source": [
    "locations=[]\n",
    "links1=[]\n",
    "date=[]\n",
    "price=[]"
   ]
  },
  {
   "cell_type": "code",
   "execution_count": 250,
   "id": "6c1d8e81",
   "metadata": {},
   "outputs": [],
   "source": [
    "for i in range(30):\n",
    "    url=f\"https://bina.az/items/all?page={i}\"\n",
    "    response=requests.get(url)\n",
    "    soup=BeautifulSoup(response.text,\"html.parser\")\n",
    "    \n",
    "    for a in soup.find_all(\"div\",class_=\"location\"):\n",
    "        locations.append(a.text)\n",
    "    \n",
    "    for a in soup.find_all(\"div\",class_=\"items-i\"):\n",
    "        links1.append(\"https://bina.az\"+a.find(\"a\").get(\"href\"))\n",
    "\n",
    "    for a in soup.find_all(\"div\",class_=\"card_footer\"):\n",
    "        date.append(a.text.split(\",\")[1].strip())\n",
    " \n",
    "    for a in soup.find_all(\"div\",class_=\"abs_block\"):\n",
    "        price.append(a.text)\n",
    "    Bina_az=pd.DataFrame({\"location\":locations,\"link\":links1,\"date\":date,\"price\":price})    "
   ]
  },
  {
   "cell_type": "code",
   "execution_count": 251,
   "id": "434c2fcc",
   "metadata": {},
   "outputs": [
    {
     "data": {
      "text/plain": [
       "array(['bugün', 'dünən'], dtype=object)"
      ]
     },
     "execution_count": 251,
     "metadata": {},
     "output_type": "execute_result"
    }
   ],
   "source": [
    "Bina_az[\"date\"].str.split(\" \").str[0].unique()"
   ]
  },
  {
   "cell_type": "code",
   "execution_count": 210,
   "id": "256d06d6",
   "metadata": {},
   "outputs": [
    {
     "data": {
      "text/plain": [
       "720"
      ]
     },
     "execution_count": 210,
     "metadata": {},
     "output_type": "execute_result"
    }
   ],
   "source": [
    "24*30"
   ]
  },
  {
   "cell_type": "code",
   "execution_count": 246,
   "id": "1101e498",
   "metadata": {},
   "outputs": [],
   "source": [
    "Bina_az.loc[Bina_az[\"date\"].str.contains(\"bugün\"),\"date\"]=np.datetime64(\"today\",\"D\")\n",
    "#Bina_az.loc[Bina_az[\"date\"].str.contains(\"dünən\"),\"date\"]=c"
   ]
  },
  {
   "cell_type": "code",
   "execution_count": 240,
   "id": "ae69e9d1",
   "metadata": {},
   "outputs": [],
   "source": [
    "c=np.datetime64(\"today\",\"D\")+x"
   ]
  },
  {
   "cell_type": "code",
   "execution_count": 222,
   "id": "fbe1b5ce",
   "metadata": {},
   "outputs": [
    {
     "name": "stdout",
     "output_type": "stream",
     "text": [
      "1 days\n"
     ]
    }
   ],
   "source": [
    "x = np.timedelta64(1,\"D\")\n",
    "print(x)"
   ]
  },
  {
   "cell_type": "code",
   "execution_count": 228,
   "id": "fab0dcfa",
   "metadata": {},
   "outputs": [
    {
     "data": {
      "text/plain": [
       "numpy.datetime64('2023-01-23')"
      ]
     },
     "execution_count": 228,
     "metadata": {},
     "output_type": "execute_result"
    }
   ],
   "source": [
    "np.datetime64(\"today\",\"D\")"
   ]
  },
  {
   "cell_type": "code",
   "execution_count": 235,
   "id": "a7f687bb",
   "metadata": {},
   "outputs": [
    {
     "data": {
      "text/html": [
       "<div>\n",
       "<style scoped>\n",
       "    .dataframe tbody tr th:only-of-type {\n",
       "        vertical-align: middle;\n",
       "    }\n",
       "\n",
       "    .dataframe tbody tr th {\n",
       "        vertical-align: top;\n",
       "    }\n",
       "\n",
       "    .dataframe thead th {\n",
       "        text-align: right;\n",
       "    }\n",
       "</style>\n",
       "<table border=\"1\" class=\"dataframe\">\n",
       "  <thead>\n",
       "    <tr style=\"text-align: right;\">\n",
       "      <th></th>\n",
       "      <th>location</th>\n",
       "      <th>link</th>\n",
       "      <th>date</th>\n",
       "      <th>price</th>\n",
       "    </tr>\n",
       "  </thead>\n",
       "  <tbody>\n",
       "    <tr>\n",
       "      <th>0</th>\n",
       "      <td>8 Noyabr m.</td>\n",
       "      <td>https://bina.az/items/3162176</td>\n",
       "      <td>2023-01-24</td>\n",
       "      <td>232 000AZN</td>\n",
       "    </tr>\n",
       "    <tr>\n",
       "      <th>1</th>\n",
       "      <td>Gənclik m.</td>\n",
       "      <td>https://bina.az/items/3223581</td>\n",
       "      <td>2023-01-24</td>\n",
       "      <td>177 000AZN</td>\n",
       "    </tr>\n",
       "    <tr>\n",
       "      <th>2</th>\n",
       "      <td>Yasamal r.</td>\n",
       "      <td>https://bina.az/items/3213606</td>\n",
       "      <td>2023-01-24</td>\n",
       "      <td>120 000AZN</td>\n",
       "    </tr>\n",
       "    <tr>\n",
       "      <th>3</th>\n",
       "      <td>Elmlər Akademiyası m.</td>\n",
       "      <td>https://bina.az/items/3079621</td>\n",
       "      <td>2023-01-24</td>\n",
       "      <td>285 000AZN</td>\n",
       "    </tr>\n",
       "    <tr>\n",
       "      <th>4</th>\n",
       "      <td>Elmlər Akademiyası m.</td>\n",
       "      <td>https://bina.az/items/3205265</td>\n",
       "      <td>2023-01-24</td>\n",
       "      <td>245 000AZN</td>\n",
       "    </tr>\n",
       "    <tr>\n",
       "      <th>...</th>\n",
       "      <td>...</td>\n",
       "      <td>...</td>\n",
       "      <td>...</td>\n",
       "      <td>...</td>\n",
       "    </tr>\n",
       "    <tr>\n",
       "      <th>715</th>\n",
       "      <td>Həzi Aslanov m.</td>\n",
       "      <td>https://bina.az/items/3229207</td>\n",
       "      <td>dünən 19:18</td>\n",
       "      <td>132 000AZN</td>\n",
       "    </tr>\n",
       "    <tr>\n",
       "      <th>716</th>\n",
       "      <td>28 May m.</td>\n",
       "      <td>https://bina.az/items/3176914</td>\n",
       "      <td>dünən 19:18</td>\n",
       "      <td>1 600AZN/ay</td>\n",
       "    </tr>\n",
       "    <tr>\n",
       "      <th>717</th>\n",
       "      <td>Elmlər Akademiyası m.</td>\n",
       "      <td>https://bina.az/items/3112132</td>\n",
       "      <td>dünən 19:18</td>\n",
       "      <td>300 000AZN</td>\n",
       "    </tr>\n",
       "    <tr>\n",
       "      <th>718</th>\n",
       "      <td>Sahil m.</td>\n",
       "      <td>https://bina.az/items/3174476</td>\n",
       "      <td>dünən 19:18</td>\n",
       "      <td>50AZN/gün</td>\n",
       "    </tr>\n",
       "    <tr>\n",
       "      <th>719</th>\n",
       "      <td>Əhmədli m.</td>\n",
       "      <td>https://bina.az/items/3229205</td>\n",
       "      <td>dünən 19:18</td>\n",
       "      <td>112 000AZN</td>\n",
       "    </tr>\n",
       "  </tbody>\n",
       "</table>\n",
       "<p>720 rows × 4 columns</p>\n",
       "</div>"
      ],
      "text/plain": [
       "                  location                           link         date  \\\n",
       "0              8 Noyabr m.  https://bina.az/items/3162176   2023-01-24   \n",
       "1               Gənclik m.  https://bina.az/items/3223581   2023-01-24   \n",
       "2               Yasamal r.  https://bina.az/items/3213606   2023-01-24   \n",
       "3    Elmlər Akademiyası m.  https://bina.az/items/3079621   2023-01-24   \n",
       "4    Elmlər Akademiyası m.  https://bina.az/items/3205265   2023-01-24   \n",
       "..                     ...                            ...          ...   \n",
       "715        Həzi Aslanov m.  https://bina.az/items/3229207  dünən 19:18   \n",
       "716              28 May m.  https://bina.az/items/3176914  dünən 19:18   \n",
       "717  Elmlər Akademiyası m.  https://bina.az/items/3112132  dünən 19:18   \n",
       "718               Sahil m.  https://bina.az/items/3174476  dünən 19:18   \n",
       "719             Əhmədli m.  https://bina.az/items/3229205  dünən 19:18   \n",
       "\n",
       "           price  \n",
       "0     232 000AZN  \n",
       "1     177 000AZN  \n",
       "2     120 000AZN  \n",
       "3     285 000AZN  \n",
       "4     245 000AZN  \n",
       "..           ...  \n",
       "715   132 000AZN  \n",
       "716  1 600AZN/ay  \n",
       "717   300 000AZN  \n",
       "718    50AZN/gün  \n",
       "719   112 000AZN  \n",
       "\n",
       "[720 rows x 4 columns]"
      ]
     },
     "execution_count": 235,
     "metadata": {},
     "output_type": "execute_result"
    }
   ],
   "source": [
    "Bina_az"
   ]
  },
  {
   "cell_type": "code",
   "execution_count": 253,
   "id": "6aa2e639",
   "metadata": {},
   "outputs": [],
   "source": [
    "bana_az=Bina_az.copy()"
   ]
  },
  {
   "cell_type": "code",
   "execution_count": 263,
   "id": "42ca1472",
   "metadata": {},
   "outputs": [
    {
     "name": "stderr",
     "output_type": "stream",
     "text": [
      "C:\\Users\\hp\\AppData\\Local\\Temp/ipykernel_9968/2292553293.py:1: SettingWithCopyWarning: \n",
      "A value is trying to be set on a copy of a slice from a DataFrame.\n",
      "Try using .loc[row_indexer,col_indexer] = value instead\n",
      "\n",
      "See the caveats in the documentation: https://pandas.pydata.org/pandas-docs/stable/user_guide/indexing.html#returning-a-view-versus-a-copy\n",
      "  bana_az[bana_az[\"date\"].str.contains(\"bugün\")][\"date\"]=np.datetime64(\"today\",\"D\")\n"
     ]
    }
   ],
   "source": [
    "bana_az[bana_az[\"date\"].str.contains(\"bugün\")][\"date\"]=np.datetime64(\"today\",\"D\")"
   ]
  },
  {
   "cell_type": "code",
   "execution_count": 266,
   "id": "4615407e",
   "metadata": {},
   "outputs": [],
   "source": [
    "bana_az.loc[bana_az[\"date\"].str.contains(\"bugün\"),\"date\"]=np.datetime64(\"today\",\"D\")"
   ]
  },
  {
   "cell_type": "code",
   "execution_count": 277,
   "id": "49b89b47",
   "metadata": {},
   "outputs": [],
   "source": [
    "bana_az.loc[bana_az[\"date\"].str.contains(\"dünən\")==True,\"date\"]=np.datetime64(\"today\",\"D\")+x"
   ]
  },
  {
   "cell_type": "code",
   "execution_count": 273,
   "id": "a4996deb",
   "metadata": {},
   "outputs": [
    {
     "data": {
      "text/plain": [
       "0"
      ]
     },
     "execution_count": 273,
     "metadata": {},
     "output_type": "execute_result"
    }
   ],
   "source": [
    "bana_az[\"date\"].isna().sum()"
   ]
  },
  {
   "cell_type": "code",
   "execution_count": 274,
   "id": "5c9ca908",
   "metadata": {},
   "outputs": [
    {
     "data": {
      "text/plain": [
       "numpy.datetime64('2023-01-24')"
      ]
     },
     "execution_count": 274,
     "metadata": {},
     "output_type": "execute_result"
    }
   ],
   "source": [
    "np.datetime64(\"today\",\"D\")+x"
   ]
  },
  {
   "cell_type": "code",
   "execution_count": 279,
   "id": "d158930b",
   "metadata": {},
   "outputs": [
    {
     "data": {
      "text/plain": [
       "array([numpy.datetime64('2023-01-23'), numpy.datetime64('2023-01-24')],\n",
       "      dtype=object)"
      ]
     },
     "execution_count": 279,
     "metadata": {},
     "output_type": "execute_result"
    }
   ],
   "source": [
    "bana_az[\"date\"].unique()"
   ]
  },
  {
   "cell_type": "code",
   "execution_count": 280,
   "id": "8ca49c55",
   "metadata": {},
   "outputs": [],
   "source": [
    "BINA_AZ=bana_az.copy()"
   ]
  },
  {
   "cell_type": "code",
   "execution_count": 288,
   "id": "1c0ad7e6",
   "metadata": {},
   "outputs": [],
   "source": [
    "BINA_AZ.to_csv(\"binaz.csv\")"
   ]
  },
  {
   "cell_type": "code",
   "execution_count": 289,
   "id": "0ad10636",
   "metadata": {},
   "outputs": [
    {
     "data": {
      "text/html": [
       "<div>\n",
       "<style scoped>\n",
       "    .dataframe tbody tr th:only-of-type {\n",
       "        vertical-align: middle;\n",
       "    }\n",
       "\n",
       "    .dataframe tbody tr th {\n",
       "        vertical-align: top;\n",
       "    }\n",
       "\n",
       "    .dataframe thead th {\n",
       "        text-align: right;\n",
       "    }\n",
       "</style>\n",
       "<table border=\"1\" class=\"dataframe\">\n",
       "  <thead>\n",
       "    <tr style=\"text-align: right;\">\n",
       "      <th></th>\n",
       "      <th>Unnamed: 0</th>\n",
       "      <th>location</th>\n",
       "      <th>link</th>\n",
       "      <th>date</th>\n",
       "      <th>price</th>\n",
       "    </tr>\n",
       "  </thead>\n",
       "  <tbody>\n",
       "    <tr>\n",
       "      <th>0</th>\n",
       "      <td>0</td>\n",
       "      <td>Nərimanov r.</td>\n",
       "      <td>https://bina.az/items/3102815</td>\n",
       "      <td>2023-01-23</td>\n",
       "      <td>225 000AZN</td>\n",
       "    </tr>\n",
       "    <tr>\n",
       "      <th>1</th>\n",
       "      <td>1</td>\n",
       "      <td>8 Noyabr m.</td>\n",
       "      <td>https://bina.az/items/3162176</td>\n",
       "      <td>2023-01-23</td>\n",
       "      <td>232 000AZN</td>\n",
       "    </tr>\n",
       "    <tr>\n",
       "      <th>2</th>\n",
       "      <td>2</td>\n",
       "      <td>Gənclik m.</td>\n",
       "      <td>https://bina.az/items/3223581</td>\n",
       "      <td>2023-01-23</td>\n",
       "      <td>177 000AZN</td>\n",
       "    </tr>\n",
       "    <tr>\n",
       "      <th>3</th>\n",
       "      <td>3</td>\n",
       "      <td>Yasamal r.</td>\n",
       "      <td>https://bina.az/items/3213606</td>\n",
       "      <td>2023-01-23</td>\n",
       "      <td>120 000AZN</td>\n",
       "    </tr>\n",
       "    <tr>\n",
       "      <th>4</th>\n",
       "      <td>4</td>\n",
       "      <td>Elmlər Akademiyası m.</td>\n",
       "      <td>https://bina.az/items/3079621</td>\n",
       "      <td>2023-01-23</td>\n",
       "      <td>285 000AZN</td>\n",
       "    </tr>\n",
       "    <tr>\n",
       "      <th>...</th>\n",
       "      <td>...</td>\n",
       "      <td>...</td>\n",
       "      <td>...</td>\n",
       "      <td>...</td>\n",
       "      <td>...</td>\n",
       "    </tr>\n",
       "    <tr>\n",
       "      <th>715</th>\n",
       "      <td>715</td>\n",
       "      <td>Nəsimi r.</td>\n",
       "      <td>https://bina.az/items/3226054</td>\n",
       "      <td>2023-01-24</td>\n",
       "      <td>1 200AZN/ay</td>\n",
       "    </tr>\n",
       "    <tr>\n",
       "      <th>716</th>\n",
       "      <td>716</td>\n",
       "      <td>Həzi Aslanov m.</td>\n",
       "      <td>https://bina.az/items/3229207</td>\n",
       "      <td>2023-01-24</td>\n",
       "      <td>132 000AZN</td>\n",
       "    </tr>\n",
       "    <tr>\n",
       "      <th>717</th>\n",
       "      <td>717</td>\n",
       "      <td>28 May m.</td>\n",
       "      <td>https://bina.az/items/3176914</td>\n",
       "      <td>2023-01-24</td>\n",
       "      <td>1 600AZN/ay</td>\n",
       "    </tr>\n",
       "    <tr>\n",
       "      <th>718</th>\n",
       "      <td>718</td>\n",
       "      <td>Elmlər Akademiyası m.</td>\n",
       "      <td>https://bina.az/items/3112132</td>\n",
       "      <td>2023-01-24</td>\n",
       "      <td>300 000AZN</td>\n",
       "    </tr>\n",
       "    <tr>\n",
       "      <th>719</th>\n",
       "      <td>719</td>\n",
       "      <td>Sahil m.</td>\n",
       "      <td>https://bina.az/items/3174476</td>\n",
       "      <td>2023-01-24</td>\n",
       "      <td>50AZN/gün</td>\n",
       "    </tr>\n",
       "  </tbody>\n",
       "</table>\n",
       "<p>720 rows × 5 columns</p>\n",
       "</div>"
      ],
      "text/plain": [
       "     Unnamed: 0               location                           link  \\\n",
       "0             0           Nərimanov r.  https://bina.az/items/3102815   \n",
       "1             1            8 Noyabr m.  https://bina.az/items/3162176   \n",
       "2             2             Gənclik m.  https://bina.az/items/3223581   \n",
       "3             3             Yasamal r.  https://bina.az/items/3213606   \n",
       "4             4  Elmlər Akademiyası m.  https://bina.az/items/3079621   \n",
       "..          ...                    ...                            ...   \n",
       "715         715              Nəsimi r.  https://bina.az/items/3226054   \n",
       "716         716        Həzi Aslanov m.  https://bina.az/items/3229207   \n",
       "717         717              28 May m.  https://bina.az/items/3176914   \n",
       "718         718  Elmlər Akademiyası m.  https://bina.az/items/3112132   \n",
       "719         719               Sahil m.  https://bina.az/items/3174476   \n",
       "\n",
       "           date        price  \n",
       "0    2023-01-23   225 000AZN  \n",
       "1    2023-01-23   232 000AZN  \n",
       "2    2023-01-23   177 000AZN  \n",
       "3    2023-01-23   120 000AZN  \n",
       "4    2023-01-23   285 000AZN  \n",
       "..          ...          ...  \n",
       "715  2023-01-24  1 200AZN/ay  \n",
       "716  2023-01-24   132 000AZN  \n",
       "717  2023-01-24  1 600AZN/ay  \n",
       "718  2023-01-24   300 000AZN  \n",
       "719  2023-01-24    50AZN/gün  \n",
       "\n",
       "[720 rows x 5 columns]"
      ]
     },
     "execution_count": 289,
     "metadata": {},
     "output_type": "execute_result"
    }
   ],
   "source": [
    "pd.read_csv(\"binaz.csv\")"
   ]
  },
  {
   "cell_type": "code",
   "execution_count": 282,
   "id": "116d8328",
   "metadata": {},
   "outputs": [
    {
     "data": {
      "text/plain": [
       "1680"
      ]
     },
     "execution_count": 282,
     "metadata": {},
     "output_type": "execute_result"
    }
   ],
   "source": [
    "70*24"
   ]
  },
  {
   "cell_type": "code",
   "execution_count": null,
   "id": "9568564d",
   "metadata": {},
   "outputs": [],
   "source": []
  }
 ],
 "metadata": {
  "kernelspec": {
   "display_name": "Python 3 (ipykernel)",
   "language": "python",
   "name": "python3"
  },
  "language_info": {
   "codemirror_mode": {
    "name": "ipython",
    "version": 3
   },
   "file_extension": ".py",
   "mimetype": "text/x-python",
   "name": "python",
   "nbconvert_exporter": "python",
   "pygments_lexer": "ipython3",
   "version": "3.9.7"
  }
 },
 "nbformat": 4,
 "nbformat_minor": 5
}
