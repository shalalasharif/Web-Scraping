{
 "cells": [
  {
   "cell_type": "code",
   "execution_count": 1,
   "id": "123ef042",
   "metadata": {},
   "outputs": [],
   "source": [
    "import pandas as pd\n",
    "import numpy as np"
   ]
  },
  {
   "cell_type": "code",
   "execution_count": 82,
   "id": "ee2ffef1",
   "metadata": {},
   "outputs": [],
   "source": [
    "import os"
   ]
  },
  {
   "cell_type": "code",
   "execution_count": 275,
   "id": "ff26140e",
   "metadata": {},
   "outputs": [],
   "source": [
    "lst = map(lambda x : r\"C:\\Users\\hp\\OneDrive\\Masaüstü\\Files\\\\\" + x, list(filter(lambda x: 'xlsx' in x, os.listdir(r'C:\\Users\\hp\\OneDrive\\Masaüstü\\Files'))))"
   ]
  },
  {
   "cell_type": "code",
   "execution_count": 278,
   "id": "e2cd41c7",
   "metadata": {},
   "outputs": [],
   "source": [
    "lst = list(lst)"
   ]
  },
  {
   "cell_type": "code",
   "execution_count": 283,
   "id": "a309bcc6",
   "metadata": {},
   "outputs": [],
   "source": [
    "l1=r\"C:\\Users\\hp\\OneDrive\\Masaüstü\\Files\\news_sitemap_2023-04-28 16_07_05.xlsx\"\n",
    "l2=r\"C:\\Users\\hp\\OneDrive\\Masaüstü\\Files\\news_sitemap_2023-04-28 16_28_54.xlsx\"\n",
    "l3=r\"C:\\Users\\hp\\OneDrive\\Masaüstü\\Files\\news_sitemap_2023-04-28 16_46_53.xlsx\""
   ]
  },
  {
   "cell_type": "code",
   "execution_count": 284,
   "id": "fabdd520",
   "metadata": {},
   "outputs": [],
   "source": [
    "lst=[l1,l2,l3]"
   ]
  },
  {
   "cell_type": "code",
   "execution_count": 285,
   "id": "392608b1",
   "metadata": {},
   "outputs": [],
   "source": [
    "datalar=[]\n",
    "for i in lst:\n",
    "    forbes=pd.read_excel(i)\n",
    "    datalar.append(forbes)"
   ]
  },
  {
   "cell_type": "code",
   "execution_count": 286,
   "id": "8fb309df",
   "metadata": {},
   "outputs": [],
   "source": [
    "tarix_id=[]\n",
    "for i in lst:\n",
    "    a=i.split(\"sitemap_\")[1].split(\".\")[0]\n",
    "    tarix_id.append(a)"
   ]
  },
  {
   "cell_type": "code",
   "execution_count": 287,
   "id": "50e84890",
   "metadata": {
    "scrolled": false
   },
   "outputs": [
    {
     "data": {
      "text/plain": [
       "[     Unnamed: 0                                           news_loc news_name  \\\n",
       " 0             0  https://www.forbes.com/sites/alishahbaz/2023/0...    Forbes   \n",
       " 1             1  https://www.forbes.com/sites/sarahwhitmire/202...    Forbes   \n",
       " 2             2  https://www.forbes.com/sites/benjaminlaker/202...    Forbes   \n",
       " 3             3  https://www.forbes.com/sites/coreincarter/2023...    Forbes   \n",
       " 4             4  https://www.forbes.com/sites/greatspeculations...    Forbes   \n",
       " ..          ...                                                ...       ...   \n",
       " 448         448  https://www.forbes.com/sites/robinraven/2023/0...    Forbes   \n",
       " 449         449  https://www.forbes.com/sites/krisholt/2023/04/...    Forbes   \n",
       " 450         450  https://www.forbes.com/sites/nicholasreimann/2...    Forbes   \n",
       " 451         451  https://www.forbes.com/sites/krisholt/2023/04/...    Forbes   \n",
       " 452         452  https://www.forbes.com/sites/jamiecartereurope...    Forbes   \n",
       " \n",
       "                                             news_title news_language  \\\n",
       " 0    Gen Z Values Flexibility And Freedom. DoorDash...            en   \n",
       " 1                    Forbes Daily: Wall Street Revs Up            en   \n",
       " 2    Deutsche Bank: Navigating The Challenges Ahead...            en   \n",
       " 3    Miami Music Week Celebrated Diversity In Music...            en   \n",
       " 4    How Will The Cyber Attack Impact Dish’s Q1 Res...            en   \n",
       " ..                                                 ...           ...   \n",
       " 448   Mother’s Day Gift Guide: The Best Travel Dresses            en   \n",
       " 449  Today’s ‘Heardle’ Answer And Clues For Thursda...            en   \n",
       " 450  Ex-San Francisco Official Accused Of Attacking...            en   \n",
       " 451  Today’s ‘Quordle’ Answers And Clues For Thursd...            en   \n",
       " 452  In Photos: See The Extraordinary New Close-Ups...            en   \n",
       " \n",
       "          publication_date                                           keywords  \\\n",
       " 0    2023-04-28T12:05:45Z  Gen Z,Gen Z Dashers,DoorDash,DoorDash Survey S...   \n",
       " 1    2023-04-28T12:02:51Z  meta,mark zuckerberg,pfas,forever chemicals,fi...   \n",
       " 2    2023-04-28T12:01:25Z  Leadership Strategy And The Fate Of Startups,E...   \n",
       " 3    2023-04-28T12:00:25Z  The W,Deep Root Tribe,Frankie Knuckles,FEMME H...   \n",
       " 4    2023-04-28T12:00:06Z                       dish,dish stock,dish revenue   \n",
       " ..                    ...                                                ...   \n",
       " 448  2023-04-27T00:24:38Z  Mother's Day Gift Guide,Sandhya Garg of Projec...   \n",
       " 449  2023-04-27T00:15:25Z  heardle clues,heardle hints,heardle solution,h...   \n",
       " 450  2023-04-27T00:05:20Z                                                NaN   \n",
       " 451  2023-04-27T00:00:03Z  quordle clues,quordle answers,quordle hints,qu...   \n",
       " 452  2023-04-27T00:00:00Z   Juno,Jupiter,JunoCAM,Ganymede,new jupiter photos   \n",
       " \n",
       "                                             imgage_loc  \n",
       " 0    https://specials-images.forbesimg.com/imageser...  \n",
       " 1    https://specials-images.forbesimg.com/imageser...  \n",
       " 2    https://specials-images.forbesimg.com/imageser...  \n",
       " 3    https://specials-images.forbesimg.com/imageser...  \n",
       " 4    https://specials-images.forbesimg.com/imageser...  \n",
       " ..                                                 ...  \n",
       " 448  https://specials-images.forbesimg.com/imageser...  \n",
       " 449  https://specials-images.forbesimg.com/imageser...  \n",
       " 450  https://specials-images.forbesimg.com/imageser...  \n",
       " 451  https://specials-images.forbesimg.com/imageser...  \n",
       " 452  https://specials-images.forbesimg.com/imageser...  \n",
       " \n",
       " [453 rows x 8 columns],\n",
       "      Unnamed: 0                                           news_loc news_name  \\\n",
       " 0             0  https://www.forbes.com/sites/alishahbaz/2023/0...    Forbes   \n",
       " 1             1  https://www.forbes.com/sites/sarahwhitmire/202...    Forbes   \n",
       " 2             2  https://www.forbes.com/sites/benjaminlaker/202...    Forbes   \n",
       " 3             3  https://www.forbes.com/sites/coreincarter/2023...    Forbes   \n",
       " 4             4  https://www.forbes.com/sites/greatspeculations...    Forbes   \n",
       " ..          ...                                                ...       ...   \n",
       " 448         448  https://www.forbes.com/sites/robinraven/2023/0...    Forbes   \n",
       " 449         449  https://www.forbes.com/sites/krisholt/2023/04/...    Forbes   \n",
       " 450         450  https://www.forbes.com/sites/nicholasreimann/2...    Forbes   \n",
       " 451         451  https://www.forbes.com/sites/krisholt/2023/04/...    Forbes   \n",
       " 452         452  https://www.forbes.com/sites/jamiecartereurope...    Forbes   \n",
       " \n",
       "                                             news_title news_language  \\\n",
       " 0    Gen Z Values Flexibility And Freedom. DoorDash...            en   \n",
       " 1                    Forbes Daily: Wall Street Revs Up            en   \n",
       " 2    Deutsche Bank: Navigating The Challenges Ahead...            en   \n",
       " 3    Miami Music Week Celebrated Diversity In Music...            en   \n",
       " 4    How Will The Cyber Attack Impact Dish’s Q1 Res...            en   \n",
       " ..                                                 ...           ...   \n",
       " 448   Mother’s Day Gift Guide: The Best Travel Dresses            en   \n",
       " 449  Today’s ‘Heardle’ Answer And Clues For Thursda...            en   \n",
       " 450  Ex-San Francisco Official Accused Of Attacking...            en   \n",
       " 451  Today’s ‘Quordle’ Answers And Clues For Thursd...            en   \n",
       " 452  In Photos: See The Extraordinary New Close-Ups...            en   \n",
       " \n",
       "          publication_date                                           keywords  \\\n",
       " 0    2023-04-28T12:05:45Z  Gen Z,Gen Z Dashers,DoorDash,DoorDash Survey S...   \n",
       " 1    2023-04-28T12:02:51Z  meta,mark zuckerberg,pfas,forever chemicals,fi...   \n",
       " 2    2023-04-28T12:01:25Z  Leadership Strategy And The Fate Of Startups,E...   \n",
       " 3    2023-04-28T12:00:25Z  The W,Deep Root Tribe,Frankie Knuckles,FEMME H...   \n",
       " 4    2023-04-28T12:00:06Z                       dish,dish stock,dish revenue   \n",
       " ..                    ...                                                ...   \n",
       " 448  2023-04-27T00:24:38Z  Mother's Day Gift Guide,Sandhya Garg of Projec...   \n",
       " 449  2023-04-27T00:15:25Z  heardle clues,heardle hints,heardle solution,h...   \n",
       " 450  2023-04-27T00:05:20Z                                                NaN   \n",
       " 451  2023-04-27T00:00:03Z  quordle clues,quordle answers,quordle hints,qu...   \n",
       " 452  2023-04-27T00:00:00Z   Juno,Jupiter,JunoCAM,Ganymede,new jupiter photos   \n",
       " \n",
       "                                             imgage_loc  \n",
       " 0    https://specials-images.forbesimg.com/imageser...  \n",
       " 1    https://specials-images.forbesimg.com/imageser...  \n",
       " 2    https://specials-images.forbesimg.com/imageser...  \n",
       " 3    https://specials-images.forbesimg.com/imageser...  \n",
       " 4    https://specials-images.forbesimg.com/imageser...  \n",
       " ..                                                 ...  \n",
       " 448  https://specials-images.forbesimg.com/imageser...  \n",
       " 449  https://specials-images.forbesimg.com/imageser...  \n",
       " 450  https://specials-images.forbesimg.com/imageser...  \n",
       " 451  https://specials-images.forbesimg.com/imageser...  \n",
       " 452  https://specials-images.forbesimg.com/imageser...  \n",
       " \n",
       " [453 rows x 8 columns],\n",
       "      Unnamed: 0                                           news_loc news_name  \\\n",
       " 0             0  https://www.forbes.com/sites/alishahbaz/2023/0...    Forbes   \n",
       " 1             1  https://www.forbes.com/sites/sarahwhitmire/202...    Forbes   \n",
       " 2             2  https://www.forbes.com/sites/benjaminlaker/202...    Forbes   \n",
       " 3             3  https://www.forbes.com/sites/coreincarter/2023...    Forbes   \n",
       " 4             4  https://www.forbes.com/sites/greatspeculations...    Forbes   \n",
       " ..          ...                                                ...       ...   \n",
       " 448         448  https://www.forbes.com/sites/robinraven/2023/0...    Forbes   \n",
       " 449         449  https://www.forbes.com/sites/krisholt/2023/04/...    Forbes   \n",
       " 450         450  https://www.forbes.com/sites/nicholasreimann/2...    Forbes   \n",
       " 451         451  https://www.forbes.com/sites/krisholt/2023/04/...    Forbes   \n",
       " 452         452  https://www.forbes.com/sites/jamiecartereurope...    Forbes   \n",
       " \n",
       "                                             news_title news_language  \\\n",
       " 0    Gen Z Values Flexibility And Freedom. DoorDash...            en   \n",
       " 1                    Forbes Daily: Wall Street Revs Up            en   \n",
       " 2    Deutsche Bank: Navigating The Challenges Ahead...            en   \n",
       " 3    Miami Music Week Celebrated Diversity In Music...            en   \n",
       " 4    How Will The Cyber Attack Impact Dish’s Q1 Res...            en   \n",
       " ..                                                 ...           ...   \n",
       " 448   Mother’s Day Gift Guide: The Best Travel Dresses            en   \n",
       " 449  Today’s ‘Heardle’ Answer And Clues For Thursda...            en   \n",
       " 450  Ex-San Francisco Official Accused Of Attacking...            en   \n",
       " 451  Today’s ‘Quordle’ Answers And Clues For Thursd...            en   \n",
       " 452  In Photos: See The Extraordinary New Close-Ups...            en   \n",
       " \n",
       "          publication_date                                           keywords  \\\n",
       " 0    2023-04-28T12:05:45Z  Gen Z,Gen Z Dashers,DoorDash,DoorDash Survey S...   \n",
       " 1    2023-04-28T12:02:51Z  meta,mark zuckerberg,pfas,forever chemicals,fi...   \n",
       " 2    2023-04-28T12:01:25Z  Leadership Strategy And The Fate Of Startups,E...   \n",
       " 3    2023-04-28T12:00:25Z  The W,Deep Root Tribe,Frankie Knuckles,FEMME H...   \n",
       " 4    2023-04-28T12:00:06Z                       dish,dish stock,dish revenue   \n",
       " ..                    ...                                                ...   \n",
       " 448  2023-04-27T00:24:38Z  Mother's Day Gift Guide,Sandhya Garg of Projec...   \n",
       " 449  2023-04-27T00:15:25Z  heardle clues,heardle hints,heardle solution,h...   \n",
       " 450  2023-04-27T00:05:20Z                                                NaN   \n",
       " 451  2023-04-27T00:00:03Z  quordle clues,quordle answers,quordle hints,qu...   \n",
       " 452  2023-04-27T00:00:00Z   Juno,Jupiter,JunoCAM,Ganymede,new jupiter photos   \n",
       " \n",
       "                                             imgage_loc  \n",
       " 0    https://specials-images.forbesimg.com/imageser...  \n",
       " 1    https://specials-images.forbesimg.com/imageser...  \n",
       " 2    https://specials-images.forbesimg.com/imageser...  \n",
       " 3    https://specials-images.forbesimg.com/imageser...  \n",
       " 4    https://specials-images.forbesimg.com/imageser...  \n",
       " ..                                                 ...  \n",
       " 448  https://specials-images.forbesimg.com/imageser...  \n",
       " 449  https://specials-images.forbesimg.com/imageser...  \n",
       " 450  https://specials-images.forbesimg.com/imageser...  \n",
       " 451  https://specials-images.forbesimg.com/imageser...  \n",
       " 452  https://specials-images.forbesimg.com/imageser...  \n",
       " \n",
       " [453 rows x 8 columns]]"
      ]
     },
     "execution_count": 287,
     "metadata": {},
     "output_type": "execute_result"
    }
   ],
   "source": [
    "list2"
   ]
  },
  {
   "cell_type": "code",
   "execution_count": 288,
   "id": "93b01a77",
   "metadata": {},
   "outputs": [
    {
     "data": {
      "text/plain": [
       "[     Unnamed: 0                                           news_loc news_name  \\\n",
       " 0             0  https://www.forbes.com/sites/alishahbaz/2023/0...    Forbes   \n",
       " 1             1  https://www.forbes.com/sites/sarahwhitmire/202...    Forbes   \n",
       " 2             2  https://www.forbes.com/sites/benjaminlaker/202...    Forbes   \n",
       " 3             3  https://www.forbes.com/sites/coreincarter/2023...    Forbes   \n",
       " 4             4  https://www.forbes.com/sites/greatspeculations...    Forbes   \n",
       " ..          ...                                                ...       ...   \n",
       " 448         448  https://www.forbes.com/sites/robinraven/2023/0...    Forbes   \n",
       " 449         449  https://www.forbes.com/sites/krisholt/2023/04/...    Forbes   \n",
       " 450         450  https://www.forbes.com/sites/nicholasreimann/2...    Forbes   \n",
       " 451         451  https://www.forbes.com/sites/krisholt/2023/04/...    Forbes   \n",
       " 452         452  https://www.forbes.com/sites/jamiecartereurope...    Forbes   \n",
       " \n",
       "                                             news_title news_language  \\\n",
       " 0    Gen Z Values Flexibility And Freedom. DoorDash...            en   \n",
       " 1                    Forbes Daily: Wall Street Revs Up            en   \n",
       " 2    Deutsche Bank: Navigating The Challenges Ahead...            en   \n",
       " 3    Miami Music Week Celebrated Diversity In Music...            en   \n",
       " 4    How Will The Cyber Attack Impact Dish’s Q1 Res...            en   \n",
       " ..                                                 ...           ...   \n",
       " 448   Mother’s Day Gift Guide: The Best Travel Dresses            en   \n",
       " 449  Today’s ‘Heardle’ Answer And Clues For Thursda...            en   \n",
       " 450  Ex-San Francisco Official Accused Of Attacking...            en   \n",
       " 451  Today’s ‘Quordle’ Answers And Clues For Thursd...            en   \n",
       " 452  In Photos: See The Extraordinary New Close-Ups...            en   \n",
       " \n",
       "          publication_date                                           keywords  \\\n",
       " 0    2023-04-28T12:05:45Z  Gen Z,Gen Z Dashers,DoorDash,DoorDash Survey S...   \n",
       " 1    2023-04-28T12:02:51Z  meta,mark zuckerberg,pfas,forever chemicals,fi...   \n",
       " 2    2023-04-28T12:01:25Z  Leadership Strategy And The Fate Of Startups,E...   \n",
       " 3    2023-04-28T12:00:25Z  The W,Deep Root Tribe,Frankie Knuckles,FEMME H...   \n",
       " 4    2023-04-28T12:00:06Z                       dish,dish stock,dish revenue   \n",
       " ..                    ...                                                ...   \n",
       " 448  2023-04-27T00:24:38Z  Mother's Day Gift Guide,Sandhya Garg of Projec...   \n",
       " 449  2023-04-27T00:15:25Z  heardle clues,heardle hints,heardle solution,h...   \n",
       " 450  2023-04-27T00:05:20Z                                                NaN   \n",
       " 451  2023-04-27T00:00:03Z  quordle clues,quordle answers,quordle hints,qu...   \n",
       " 452  2023-04-27T00:00:00Z   Juno,Jupiter,JunoCAM,Ganymede,new jupiter photos   \n",
       " \n",
       "                                             imgage_loc  \n",
       " 0    https://specials-images.forbesimg.com/imageser...  \n",
       " 1    https://specials-images.forbesimg.com/imageser...  \n",
       " 2    https://specials-images.forbesimg.com/imageser...  \n",
       " 3    https://specials-images.forbesimg.com/imageser...  \n",
       " 4    https://specials-images.forbesimg.com/imageser...  \n",
       " ..                                                 ...  \n",
       " 448  https://specials-images.forbesimg.com/imageser...  \n",
       " 449  https://specials-images.forbesimg.com/imageser...  \n",
       " 450  https://specials-images.forbesimg.com/imageser...  \n",
       " 451  https://specials-images.forbesimg.com/imageser...  \n",
       " 452  https://specials-images.forbesimg.com/imageser...  \n",
       " \n",
       " [453 rows x 8 columns],\n",
       "      Unnamed: 0                                           news_loc news_name  \\\n",
       " 0             0  https://www.forbes.com/sites/alishahbaz/2023/0...    Forbes   \n",
       " 1             1  https://www.forbes.com/sites/sarahwhitmire/202...    Forbes   \n",
       " 2             2  https://www.forbes.com/sites/benjaminlaker/202...    Forbes   \n",
       " 3             3  https://www.forbes.com/sites/coreincarter/2023...    Forbes   \n",
       " 4             4  https://www.forbes.com/sites/greatspeculations...    Forbes   \n",
       " ..          ...                                                ...       ...   \n",
       " 448         448  https://www.forbes.com/sites/robinraven/2023/0...    Forbes   \n",
       " 449         449  https://www.forbes.com/sites/krisholt/2023/04/...    Forbes   \n",
       " 450         450  https://www.forbes.com/sites/nicholasreimann/2...    Forbes   \n",
       " 451         451  https://www.forbes.com/sites/krisholt/2023/04/...    Forbes   \n",
       " 452         452  https://www.forbes.com/sites/jamiecartereurope...    Forbes   \n",
       " \n",
       "                                             news_title news_language  \\\n",
       " 0    Gen Z Values Flexibility And Freedom. DoorDash...            en   \n",
       " 1                    Forbes Daily: Wall Street Revs Up            en   \n",
       " 2    Deutsche Bank: Navigating The Challenges Ahead...            en   \n",
       " 3    Miami Music Week Celebrated Diversity In Music...            en   \n",
       " 4    How Will The Cyber Attack Impact Dish’s Q1 Res...            en   \n",
       " ..                                                 ...           ...   \n",
       " 448   Mother’s Day Gift Guide: The Best Travel Dresses            en   \n",
       " 449  Today’s ‘Heardle’ Answer And Clues For Thursda...            en   \n",
       " 450  Ex-San Francisco Official Accused Of Attacking...            en   \n",
       " 451  Today’s ‘Quordle’ Answers And Clues For Thursd...            en   \n",
       " 452  In Photos: See The Extraordinary New Close-Ups...            en   \n",
       " \n",
       "          publication_date                                           keywords  \\\n",
       " 0    2023-04-28T12:05:45Z  Gen Z,Gen Z Dashers,DoorDash,DoorDash Survey S...   \n",
       " 1    2023-04-28T12:02:51Z  meta,mark zuckerberg,pfas,forever chemicals,fi...   \n",
       " 2    2023-04-28T12:01:25Z  Leadership Strategy And The Fate Of Startups,E...   \n",
       " 3    2023-04-28T12:00:25Z  The W,Deep Root Tribe,Frankie Knuckles,FEMME H...   \n",
       " 4    2023-04-28T12:00:06Z                       dish,dish stock,dish revenue   \n",
       " ..                    ...                                                ...   \n",
       " 448  2023-04-27T00:24:38Z  Mother's Day Gift Guide,Sandhya Garg of Projec...   \n",
       " 449  2023-04-27T00:15:25Z  heardle clues,heardle hints,heardle solution,h...   \n",
       " 450  2023-04-27T00:05:20Z                                                NaN   \n",
       " 451  2023-04-27T00:00:03Z  quordle clues,quordle answers,quordle hints,qu...   \n",
       " 452  2023-04-27T00:00:00Z   Juno,Jupiter,JunoCAM,Ganymede,new jupiter photos   \n",
       " \n",
       "                                             imgage_loc  \n",
       " 0    https://specials-images.forbesimg.com/imageser...  \n",
       " 1    https://specials-images.forbesimg.com/imageser...  \n",
       " 2    https://specials-images.forbesimg.com/imageser...  \n",
       " 3    https://specials-images.forbesimg.com/imageser...  \n",
       " 4    https://specials-images.forbesimg.com/imageser...  \n",
       " ..                                                 ...  \n",
       " 448  https://specials-images.forbesimg.com/imageser...  \n",
       " 449  https://specials-images.forbesimg.com/imageser...  \n",
       " 450  https://specials-images.forbesimg.com/imageser...  \n",
       " 451  https://specials-images.forbesimg.com/imageser...  \n",
       " 452  https://specials-images.forbesimg.com/imageser...  \n",
       " \n",
       " [453 rows x 8 columns],\n",
       "      Unnamed: 0                                           news_loc news_name  \\\n",
       " 0             0  https://www.forbes.com/sites/alishahbaz/2023/0...    Forbes   \n",
       " 1             1  https://www.forbes.com/sites/sarahwhitmire/202...    Forbes   \n",
       " 2             2  https://www.forbes.com/sites/benjaminlaker/202...    Forbes   \n",
       " 3             3  https://www.forbes.com/sites/coreincarter/2023...    Forbes   \n",
       " 4             4  https://www.forbes.com/sites/greatspeculations...    Forbes   \n",
       " ..          ...                                                ...       ...   \n",
       " 448         448  https://www.forbes.com/sites/robinraven/2023/0...    Forbes   \n",
       " 449         449  https://www.forbes.com/sites/krisholt/2023/04/...    Forbes   \n",
       " 450         450  https://www.forbes.com/sites/nicholasreimann/2...    Forbes   \n",
       " 451         451  https://www.forbes.com/sites/krisholt/2023/04/...    Forbes   \n",
       " 452         452  https://www.forbes.com/sites/jamiecartereurope...    Forbes   \n",
       " \n",
       "                                             news_title news_language  \\\n",
       " 0    Gen Z Values Flexibility And Freedom. DoorDash...            en   \n",
       " 1                    Forbes Daily: Wall Street Revs Up            en   \n",
       " 2    Deutsche Bank: Navigating The Challenges Ahead...            en   \n",
       " 3    Miami Music Week Celebrated Diversity In Music...            en   \n",
       " 4    How Will The Cyber Attack Impact Dish’s Q1 Res...            en   \n",
       " ..                                                 ...           ...   \n",
       " 448   Mother’s Day Gift Guide: The Best Travel Dresses            en   \n",
       " 449  Today’s ‘Heardle’ Answer And Clues For Thursda...            en   \n",
       " 450  Ex-San Francisco Official Accused Of Attacking...            en   \n",
       " 451  Today’s ‘Quordle’ Answers And Clues For Thursd...            en   \n",
       " 452  In Photos: See The Extraordinary New Close-Ups...            en   \n",
       " \n",
       "          publication_date                                           keywords  \\\n",
       " 0    2023-04-28T12:05:45Z  Gen Z,Gen Z Dashers,DoorDash,DoorDash Survey S...   \n",
       " 1    2023-04-28T12:02:51Z  meta,mark zuckerberg,pfas,forever chemicals,fi...   \n",
       " 2    2023-04-28T12:01:25Z  Leadership Strategy And The Fate Of Startups,E...   \n",
       " 3    2023-04-28T12:00:25Z  The W,Deep Root Tribe,Frankie Knuckles,FEMME H...   \n",
       " 4    2023-04-28T12:00:06Z                       dish,dish stock,dish revenue   \n",
       " ..                    ...                                                ...   \n",
       " 448  2023-04-27T00:24:38Z  Mother's Day Gift Guide,Sandhya Garg of Projec...   \n",
       " 449  2023-04-27T00:15:25Z  heardle clues,heardle hints,heardle solution,h...   \n",
       " 450  2023-04-27T00:05:20Z                                                NaN   \n",
       " 451  2023-04-27T00:00:03Z  quordle clues,quordle answers,quordle hints,qu...   \n",
       " 452  2023-04-27T00:00:00Z   Juno,Jupiter,JunoCAM,Ganymede,new jupiter photos   \n",
       " \n",
       "                                             imgage_loc  \n",
       " 0    https://specials-images.forbesimg.com/imageser...  \n",
       " 1    https://specials-images.forbesimg.com/imageser...  \n",
       " 2    https://specials-images.forbesimg.com/imageser...  \n",
       " 3    https://specials-images.forbesimg.com/imageser...  \n",
       " 4    https://specials-images.forbesimg.com/imageser...  \n",
       " ..                                                 ...  \n",
       " 448  https://specials-images.forbesimg.com/imageser...  \n",
       " 449  https://specials-images.forbesimg.com/imageser...  \n",
       " 450  https://specials-images.forbesimg.com/imageser...  \n",
       " 451  https://specials-images.forbesimg.com/imageser...  \n",
       " 452  https://specials-images.forbesimg.com/imageser...  \n",
       " \n",
       " [453 rows x 8 columns]]"
      ]
     },
     "execution_count": 288,
     "metadata": {},
     "output_type": "execute_result"
    }
   ],
   "source": [
    "datalar"
   ]
  },
  {
   "cell_type": "code",
   "execution_count": 289,
   "id": "34488134",
   "metadata": {},
   "outputs": [],
   "source": [
    "dict1={}\n",
    "for i in tarix_id:\n",
    "    for a in datalar:\n",
    "        dict1[i]=len(a)"
   ]
  },
  {
   "cell_type": "code",
   "execution_count": 290,
   "id": "70a20d26",
   "metadata": {},
   "outputs": [
    {
     "data": {
      "text/plain": [
       "['2023-04-28 16_07_05', '2023-04-28 16_28_54', '2023-04-28 16_46_53']"
      ]
     },
     "execution_count": 290,
     "metadata": {},
     "output_type": "execute_result"
    }
   ],
   "source": [
    "tarix_id"
   ]
  },
  {
   "cell_type": "code",
   "execution_count": 291,
   "id": "2eecb0ee",
   "metadata": {},
   "outputs": [
    {
     "data": {
      "text/plain": [
       "{'2023-04-28 16_07_05': 453,\n",
       " '2023-04-28 16_28_54': 453,\n",
       " '2023-04-28 16_46_53': 453}"
      ]
     },
     "execution_count": 291,
     "metadata": {},
     "output_type": "execute_result"
    }
   ],
   "source": [
    "dict1"
   ]
  },
  {
   "cell_type": "code",
   "execution_count": 292,
   "id": "d7603e50",
   "metadata": {
    "scrolled": true
   },
   "outputs": [],
   "source": [
    "A=pd.DataFrame({\"Time\":list(dict1.keys()),\"Count\":list(dict1.values())})"
   ]
  },
  {
   "cell_type": "code",
   "execution_count": 293,
   "id": "89c28621",
   "metadata": {},
   "outputs": [
    {
     "data": {
      "text/html": [
       "<div>\n",
       "<style scoped>\n",
       "    .dataframe tbody tr th:only-of-type {\n",
       "        vertical-align: middle;\n",
       "    }\n",
       "\n",
       "    .dataframe tbody tr th {\n",
       "        vertical-align: top;\n",
       "    }\n",
       "\n",
       "    .dataframe thead th {\n",
       "        text-align: right;\n",
       "    }\n",
       "</style>\n",
       "<table border=\"1\" class=\"dataframe\">\n",
       "  <thead>\n",
       "    <tr style=\"text-align: right;\">\n",
       "      <th></th>\n",
       "      <th>Time</th>\n",
       "      <th>Count</th>\n",
       "    </tr>\n",
       "  </thead>\n",
       "  <tbody>\n",
       "    <tr>\n",
       "      <th>0</th>\n",
       "      <td>2023-04-28 16_07_05</td>\n",
       "      <td>453</td>\n",
       "    </tr>\n",
       "    <tr>\n",
       "      <th>1</th>\n",
       "      <td>2023-04-28 16_28_54</td>\n",
       "      <td>453</td>\n",
       "    </tr>\n",
       "    <tr>\n",
       "      <th>2</th>\n",
       "      <td>2023-04-28 16_46_53</td>\n",
       "      <td>453</td>\n",
       "    </tr>\n",
       "  </tbody>\n",
       "</table>\n",
       "</div>"
      ],
      "text/plain": [
       "                  Time  Count\n",
       "0  2023-04-28 16_07_05    453\n",
       "1  2023-04-28 16_28_54    453\n",
       "2  2023-04-28 16_46_53    453"
      ]
     },
     "execution_count": 293,
     "metadata": {},
     "output_type": "execute_result"
    }
   ],
   "source": [
    "A"
   ]
  },
  {
   "cell_type": "markdown",
   "id": "4c07be27",
   "metadata": {},
   "source": [
    "Part2"
   ]
  },
  {
   "cell_type": "code",
   "execution_count": 294,
   "id": "46fd1e50",
   "metadata": {},
   "outputs": [
    {
     "data": {
      "text/plain": [
       "453"
      ]
     },
     "execution_count": 294,
     "metadata": {},
     "output_type": "execute_result"
    }
   ],
   "source": [
    "len(datalar[0])"
   ]
  },
  {
   "cell_type": "code",
   "execution_count": 310,
   "id": "46f18374",
   "metadata": {},
   "outputs": [],
   "source": [
    "Yekun=pd.DataFrame()\n",
    "a=[]\n",
    "for i in range(0,len(A[\"Time\"])):\n",
    "    if i==(len(A[\"Time\"])-1):\n",
    "        break\n",
    "    b=A[\"Time\"][i]+\"--\"+A[\"Time\"][i+1]\n",
    "    a.append(b)\n",
    "Yekun[\"Time\"]=a"
   ]
  },
  {
   "cell_type": "code",
   "execution_count": 311,
   "id": "f528a00e",
   "metadata": {},
   "outputs": [],
   "source": [
    "Yekun[[\"New\",\"Same\",\"Excluded\"]]=\"x\""
   ]
  },
  {
   "cell_type": "code",
   "execution_count": 312,
   "id": "ec61d50a",
   "metadata": {
    "scrolled": true
   },
   "outputs": [
    {
     "data": {
      "text/html": [
       "<div>\n",
       "<style scoped>\n",
       "    .dataframe tbody tr th:only-of-type {\n",
       "        vertical-align: middle;\n",
       "    }\n",
       "\n",
       "    .dataframe tbody tr th {\n",
       "        vertical-align: top;\n",
       "    }\n",
       "\n",
       "    .dataframe thead th {\n",
       "        text-align: right;\n",
       "    }\n",
       "</style>\n",
       "<table border=\"1\" class=\"dataframe\">\n",
       "  <thead>\n",
       "    <tr style=\"text-align: right;\">\n",
       "      <th></th>\n",
       "      <th>Time</th>\n",
       "      <th>New</th>\n",
       "      <th>Same</th>\n",
       "      <th>Excluded</th>\n",
       "    </tr>\n",
       "  </thead>\n",
       "  <tbody>\n",
       "    <tr>\n",
       "      <th>0</th>\n",
       "      <td>2023-04-28 16_07_05--2023-04-28 16_28_54</td>\n",
       "      <td>x</td>\n",
       "      <td>x</td>\n",
       "      <td>x</td>\n",
       "    </tr>\n",
       "    <tr>\n",
       "      <th>1</th>\n",
       "      <td>2023-04-28 16_28_54--2023-04-28 16_46_53</td>\n",
       "      <td>x</td>\n",
       "      <td>x</td>\n",
       "      <td>x</td>\n",
       "    </tr>\n",
       "  </tbody>\n",
       "</table>\n",
       "</div>"
      ],
      "text/plain": [
       "                                       Time New Same Excluded\n",
       "0  2023-04-28 16_07_05--2023-04-28 16_28_54   x    x        x\n",
       "1  2023-04-28 16_28_54--2023-04-28 16_46_53   x    x        x"
      ]
     },
     "execution_count": 312,
     "metadata": {},
     "output_type": "execute_result"
    }
   ],
   "source": [
    "Yekun"
   ]
  },
  {
   "cell_type": "code",
   "execution_count": null,
   "id": "7a198cfa",
   "metadata": {},
   "outputs": [],
   "source": []
  },
  {
   "cell_type": "code",
   "execution_count": 314,
   "id": "261ea7d1",
   "metadata": {},
   "outputs": [
    {
     "name": "stdout",
     "output_type": "stream",
     "text": [
      "[453, 453]\n"
     ]
    }
   ],
   "source": [
    "#Same\n",
    "g=[]\n",
    "for i in range(0,len(datalar)):\n",
    "    if i==(len(datalar)-1):\n",
    "        break\n",
    "    c=0\n",
    "    dt1=list(datalar[i][\"news_loc\"])\n",
    "    dt2=list(datalar[i+1][\"news_loc\"])\n",
    "    for a in dt2:\n",
    "        if a in dt1:\n",
    "            c+=1\n",
    "    g.append(c)\n",
    "print(g)"
   ]
  },
  {
   "cell_type": "code",
   "execution_count": 315,
   "id": "b6ec0d5c",
   "metadata": {},
   "outputs": [
    {
     "name": "stdout",
     "output_type": "stream",
     "text": [
      "[0, 0]\n"
     ]
    }
   ],
   "source": [
    "#new\n",
    "d=[]\n",
    "for i in range(0,len(datalar)):\n",
    "    if i==(len(datalar)-1):\n",
    "        break\n",
    "    c=0\n",
    "    dt1=list(datalar[i][\"news_loc\"])\n",
    "    dt2=list(datalar[i+1][\"news_loc\"])\n",
    "    for a in dt2:\n",
    "        if a not in dt1:\n",
    "            c+=1\n",
    "    d.append(c)\n",
    "print(d)"
   ]
  },
  {
   "cell_type": "code",
   "execution_count": 316,
   "id": "075b5df0",
   "metadata": {},
   "outputs": [
    {
     "name": "stdout",
     "output_type": "stream",
     "text": [
      "[0, 0]\n"
     ]
    }
   ],
   "source": [
    "#excluded\n",
    "h=[]\n",
    "for i in range(0,len(datalar)):\n",
    "    if i==(len(datalar)-1):\n",
    "        break\n",
    "    c=0\n",
    "    dt1=list(datalar[i][\"news_loc\"])\n",
    "    dt2=list(datalar[i+1][\"news_loc\"])\n",
    "    for a in dt1:\n",
    "        if a not in dt2:\n",
    "            c+=1\n",
    "    h.append(c)\n",
    "print(h)"
   ]
  },
  {
   "cell_type": "code",
   "execution_count": 317,
   "id": "6bb08990",
   "metadata": {},
   "outputs": [],
   "source": [
    "Yekun[\"New\"]=g\n",
    "Yekun[\"Same\"]=d\n",
    "Yekun[\"Excluded\"]=h"
   ]
  },
  {
   "cell_type": "code",
   "execution_count": 318,
   "id": "b1722ed3",
   "metadata": {},
   "outputs": [
    {
     "data": {
      "text/html": [
       "<div>\n",
       "<style scoped>\n",
       "    .dataframe tbody tr th:only-of-type {\n",
       "        vertical-align: middle;\n",
       "    }\n",
       "\n",
       "    .dataframe tbody tr th {\n",
       "        vertical-align: top;\n",
       "    }\n",
       "\n",
       "    .dataframe thead th {\n",
       "        text-align: right;\n",
       "    }\n",
       "</style>\n",
       "<table border=\"1\" class=\"dataframe\">\n",
       "  <thead>\n",
       "    <tr style=\"text-align: right;\">\n",
       "      <th></th>\n",
       "      <th>Time</th>\n",
       "      <th>New</th>\n",
       "      <th>Same</th>\n",
       "      <th>Excluded</th>\n",
       "    </tr>\n",
       "  </thead>\n",
       "  <tbody>\n",
       "    <tr>\n",
       "      <th>0</th>\n",
       "      <td>2023-04-28 16_07_05--2023-04-28 16_28_54</td>\n",
       "      <td>453</td>\n",
       "      <td>0</td>\n",
       "      <td>0</td>\n",
       "    </tr>\n",
       "    <tr>\n",
       "      <th>1</th>\n",
       "      <td>2023-04-28 16_28_54--2023-04-28 16_46_53</td>\n",
       "      <td>453</td>\n",
       "      <td>0</td>\n",
       "      <td>0</td>\n",
       "    </tr>\n",
       "  </tbody>\n",
       "</table>\n",
       "</div>"
      ],
      "text/plain": [
       "                                       Time  New  Same  Excluded\n",
       "0  2023-04-28 16_07_05--2023-04-28 16_28_54  453     0         0\n",
       "1  2023-04-28 16_28_54--2023-04-28 16_46_53  453     0         0"
      ]
     },
     "execution_count": 318,
     "metadata": {},
     "output_type": "execute_result"
    }
   ],
   "source": [
    "Yekun"
   ]
  },
  {
   "cell_type": "code",
   "execution_count": null,
   "id": "1060f6a6",
   "metadata": {},
   "outputs": [],
   "source": []
  },
  {
   "cell_type": "code",
   "execution_count": 298,
   "id": "4d7e066b",
   "metadata": {},
   "outputs": [],
   "source": [
    "x = pd.DataFrame({'a':[1,2,3]})\n",
    "y = pd.DataFrame({'a':[2,3,4]})"
   ]
  },
  {
   "cell_type": "code",
   "execution_count": 299,
   "id": "e3357ad7",
   "metadata": {},
   "outputs": [
    {
     "data": {
      "text/html": [
       "<div>\n",
       "<style scoped>\n",
       "    .dataframe tbody tr th:only-of-type {\n",
       "        vertical-align: middle;\n",
       "    }\n",
       "\n",
       "    .dataframe tbody tr th {\n",
       "        vertical-align: top;\n",
       "    }\n",
       "\n",
       "    .dataframe thead th {\n",
       "        text-align: right;\n",
       "    }\n",
       "</style>\n",
       "<table border=\"1\" class=\"dataframe\">\n",
       "  <thead>\n",
       "    <tr style=\"text-align: right;\">\n",
       "      <th></th>\n",
       "      <th>a</th>\n",
       "    </tr>\n",
       "  </thead>\n",
       "  <tbody>\n",
       "    <tr>\n",
       "      <th>0</th>\n",
       "      <td>1</td>\n",
       "    </tr>\n",
       "    <tr>\n",
       "      <th>1</th>\n",
       "      <td>2</td>\n",
       "    </tr>\n",
       "    <tr>\n",
       "      <th>2</th>\n",
       "      <td>3</td>\n",
       "    </tr>\n",
       "  </tbody>\n",
       "</table>\n",
       "</div>"
      ],
      "text/plain": [
       "   a\n",
       "0  1\n",
       "1  2\n",
       "2  3"
      ]
     },
     "execution_count": 299,
     "metadata": {},
     "output_type": "execute_result"
    }
   ],
   "source": [
    "x"
   ]
  },
  {
   "cell_type": "code",
   "execution_count": 300,
   "id": "b9b68f98",
   "metadata": {},
   "outputs": [
    {
     "data": {
      "text/html": [
       "<div>\n",
       "<style scoped>\n",
       "    .dataframe tbody tr th:only-of-type {\n",
       "        vertical-align: middle;\n",
       "    }\n",
       "\n",
       "    .dataframe tbody tr th {\n",
       "        vertical-align: top;\n",
       "    }\n",
       "\n",
       "    .dataframe thead th {\n",
       "        text-align: right;\n",
       "    }\n",
       "</style>\n",
       "<table border=\"1\" class=\"dataframe\">\n",
       "  <thead>\n",
       "    <tr style=\"text-align: right;\">\n",
       "      <th></th>\n",
       "      <th>a</th>\n",
       "    </tr>\n",
       "  </thead>\n",
       "  <tbody>\n",
       "    <tr>\n",
       "      <th>0</th>\n",
       "      <td>2</td>\n",
       "    </tr>\n",
       "    <tr>\n",
       "      <th>1</th>\n",
       "      <td>3</td>\n",
       "    </tr>\n",
       "    <tr>\n",
       "      <th>2</th>\n",
       "      <td>4</td>\n",
       "    </tr>\n",
       "  </tbody>\n",
       "</table>\n",
       "</div>"
      ],
      "text/plain": [
       "   a\n",
       "0  2\n",
       "1  3\n",
       "2  4"
      ]
     },
     "execution_count": 300,
     "metadata": {},
     "output_type": "execute_result"
    }
   ],
   "source": [
    "y"
   ]
  },
  {
   "cell_type": "code",
   "execution_count": 307,
   "id": "540418ba",
   "metadata": {},
   "outputs": [
    {
     "data": {
      "text/plain": [
       "[1, 2, 3]"
      ]
     },
     "execution_count": 307,
     "metadata": {},
     "output_type": "execute_result"
    }
   ],
   "source": [
    "x['a'].tolist()"
   ]
  },
  {
   "cell_type": "code",
   "execution_count": 308,
   "id": "f0c3e84b",
   "metadata": {},
   "outputs": [
    {
     "data": {
      "text/plain": [
       "[2, 3, 4]"
      ]
     },
     "execution_count": 308,
     "metadata": {},
     "output_type": "execute_result"
    }
   ],
   "source": [
    "y['a'].tolist()"
   ]
  },
  {
   "cell_type": "code",
   "execution_count": 304,
   "id": "7ce8a0cd",
   "metadata": {},
   "outputs": [
    {
     "data": {
      "text/plain": [
       "{1}"
      ]
     },
     "execution_count": 304,
     "metadata": {},
     "output_type": "execute_result"
    }
   ],
   "source": [
    "set(x['a'].tolist()) - set(y['a'].tolist())"
   ]
  },
  {
   "cell_type": "code",
   "execution_count": 305,
   "id": "9ead7566",
   "metadata": {},
   "outputs": [
    {
     "data": {
      "text/plain": [
       "{4}"
      ]
     },
     "execution_count": 305,
     "metadata": {},
     "output_type": "execute_result"
    }
   ],
   "source": [
    "set(y['a'].tolist()) - set(x['a'].tolist())"
   ]
  },
  {
   "cell_type": "code",
   "execution_count": null,
   "id": "147b22f8",
   "metadata": {},
   "outputs": [],
   "source": []
  },
  {
   "cell_type": "code",
   "execution_count": null,
   "id": "35f1f6db",
   "metadata": {},
   "outputs": [],
   "source": []
  },
  {
   "cell_type": "code",
   "execution_count": null,
   "id": "5c8d0e66",
   "metadata": {},
   "outputs": [],
   "source": []
  },
  {
   "cell_type": "code",
   "execution_count": 179,
   "id": "817b63be",
   "metadata": {},
   "outputs": [],
   "source": [
    "b=[]\n",
    "for i in range(0,len(list2)):\n",
    "    if i==(len(list2)-1):\n",
    "        break\n",
    "    a=(list2[i][\"news_loc\"]!=list2[i+1][\"news_loc\"]).sum()\n",
    "    b.append(a)\n",
    "Yekun[\"New\"]=b"
   ]
  },
  {
   "cell_type": "code",
   "execution_count": 184,
   "id": "6a7ad8f0",
   "metadata": {},
   "outputs": [],
   "source": [
    "c=[]\n",
    "for i in range(0,len(list2)):\n",
    "    if i==(len(list2)-1):\n",
    "        break\n",
    "    a=(list2[i][\"news_loc\"]==list2[i+1][\"news_loc\"]).sum()\n",
    "    c.append(a)\n",
    "Yekun[\"Same\"]=c"
   ]
  },
  {
   "cell_type": "code",
   "execution_count": 195,
   "id": "66648990",
   "metadata": {},
   "outputs": [
    {
     "name": "stdout",
     "output_type": "stream",
     "text": [
      "0\n"
     ]
    }
   ],
   "source": [
    "c=0\n",
    "for i in list2[0][\"news_loc\"]:\n",
    "    if i in list2[1][\"news_loc\"]:\n",
    "        c+=1\n",
    "print(c)"
   ]
  },
  {
   "cell_type": "code",
   "execution_count": 210,
   "id": "ec29d143",
   "metadata": {},
   "outputs": [
    {
     "name": "stdout",
     "output_type": "stream",
     "text": [
      "453\n"
     ]
    }
   ],
   "source": [
    "lr1=list(list2[0][\"news_loc\"])\n",
    "lr2=list(list2[1][\"news_loc\"])\n",
    "c=0\n",
    "for i in lr1:\n",
    "    if i in lr2:\n",
    "        c+=1\n",
    "print(c)"
   ]
  },
  {
   "cell_type": "code",
   "execution_count": 211,
   "id": "23fe0673",
   "metadata": {},
   "outputs": [
    {
     "data": {
      "text/plain": [
       "{'2023-04-28 16_07_05': 453,\n",
       " '2023-04-28 16_28_54': 453,\n",
       " '2023-04-28 16_46_53': 453}"
      ]
     },
     "execution_count": 211,
     "metadata": {},
     "output_type": "execute_result"
    }
   ],
   "source": [
    "dict1"
   ]
  },
  {
   "cell_type": "code",
   "execution_count": null,
   "id": "48d1c9e5",
   "metadata": {},
   "outputs": [],
   "source": []
  }
 ],
 "metadata": {
  "kernelspec": {
   "display_name": "Python 3 (ipykernel)",
   "language": "python",
   "name": "python3"
  },
  "language_info": {
   "codemirror_mode": {
    "name": "ipython",
    "version": 3
   },
   "file_extension": ".py",
   "mimetype": "text/x-python",
   "name": "python",
   "nbconvert_exporter": "python",
   "pygments_lexer": "ipython3",
   "version": "3.9.7"
  }
 },
 "nbformat": 4,
 "nbformat_minor": 5
}
